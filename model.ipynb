{
  "cells": [
    {
      "cell_type": "markdown",
      "metadata": {
        "id": "7zQr72vagFAs"
      },
      "source": [
        "# dependencies and hyperparameters"
      ]
    },
    {
      "cell_type": "code",
      "execution_count": 16,
      "metadata": {
        "id": "jDg6kqyjfwlq"
      },
      "outputs": [],
      "source": [
        "#import dependencies\n",
        "import torch\n",
        "import torch.nn as nn\n",
        "from torch.nn import functional as F\n",
        "import pandas as pd"
      ]
    },
    {
      "cell_type": "code",
      "execution_count": null,
      "metadata": {
        "id": "SFCZvQqFhRXt"
      },
      "outputs": [],
      "source": [
        "device = torch.device('cuda') if torch.cuda.is_available() else torch.device('cpu')"
      ]
    },
    {
      "cell_type": "markdown",
      "metadata": {
        "id": "xblKvIL0hBNf"
      },
      "source": [
        "# dataset"
      ]
    },
    {
      "cell_type": "code",
      "execution_count": null,
      "metadata": {
        "colab": {
          "base_uri": "https://localhost:8080/"
        },
        "id": "1r7yNVbiVYvs",
        "outputId": "a4273dfb-dc03-469a-b9a5-7b4efdb3b134"
      },
      "outputs": [
        {
          "name": "stdout",
          "output_type": "stream",
          "text": [
            "Mounted at /content/drive\n"
          ]
        }
      ],
      "source": [
        "#1 FOR USE ON COLAB WEB\n",
        "#upload files to your drive and use the correct paths\n",
        "\n",
        "from google.colab import drive\n",
        "drive.mount('/content/drive')\n",
        "\n",
        "#Set path to the training and validation data\n",
        "\n",
        "path_train = \"/content/drive/MyDrive/mnist_neural_network/mnist_train.csv\"\n",
        "path_test = \"/content/drive/MyDrive/mnist_neural_network/mnist_test.csv\""
      ]
    },
    {
      "cell_type": "code",
      "execution_count": null,
      "metadata": {
        "id": "Y5hNsSttcZGJ"
      },
      "outputs": [],
      "source": [
        "#2 FOR USE ON LOCAL MACHINE\n",
        "path_train = \"/dataset/mnist_test.csv\"\n",
        "path_test = \"/dataset/mnist_train.csv\""
      ]
    },
    {
      "cell_type": "code",
      "execution_count": null,
      "metadata": {
        "id": "2IGx4cXxvsGD"
      },
      "outputs": [],
      "source": [
        "#read the files\n",
        "train = pd.read_csv(path_train)\n",
        "test = pd.read_csv(path_test)\n",
        "\n",
        "#shorten the dataset\n",
        "train = train.iloc[:30001]\n",
        "test = test.iloc[3001]"
      ]
    },
    {
      "cell_type": "code",
      "execution_count": null,
      "metadata": {
        "id": "mKAhJrDswAXM"
      },
      "outputs": [],
      "source": [
        "#convert the dataframe representations of the data to pytorch tensors and set correct device\n",
        "train = torch.from_numpy(train.values).float().to(device)\n",
        "test = torch.from_numpy(test.values).float().to(device)"
      ]
    }
  ],
  "metadata": {
    "colab": {
      "provenance": []
    },
    "kernelspec": {
      "display_name": "Python 3",
      "name": "python3"
    },
    "language_info": {
      "name": "python"
    }
  },
  "nbformat": 4,
  "nbformat_minor": 0
}
