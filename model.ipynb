{
  "nbformat": 4,
  "nbformat_minor": 0,
  "metadata": {
    "colab": {
      "provenance": [],
      "mount_file_id": "1oOXQx9wA5_0FKVtUNJ8SHZKuK4Q1iHqK",
      "authorship_tag": "ABX9TyO0A0ZeJhGi/UqtfayrLpQN",
      "include_colab_link": true
    },
    "kernelspec": {
      "name": "python3",
      "display_name": "Python 3"
    },
    "language_info": {
      "name": "python"
    }
  },
  "cells": [
    {
      "cell_type": "markdown",
      "metadata": {
        "id": "view-in-github",
        "colab_type": "text"
      },
      "source": [
        "<a href=\"https://colab.research.google.com/github/Ablaz3/simple_mnist_network/blob/main/model.ipynb\" target=\"_parent\"><img src=\"https://colab.research.google.com/assets/colab-badge.svg\" alt=\"Open In Colab\"/></a>"
      ]
    },
    {
      "cell_type": "code",
      "source": [
        "#import dependencies\n",
        "import torch\n",
        "import torch.nn as nn\n",
        "from torch.nn import functional as F\n",
        "import pandas as pd"
      ],
      "metadata": {
        "id": "jDg6kqyjfwlq"
      },
      "execution_count": 3,
      "outputs": []
    },
    {
      "cell_type": "code",
      "source": [
        "from google.colab import drive\n",
        "drive.mount('/content/drive')"
      ],
      "metadata": {
        "colab": {
          "base_uri": "https://localhost:8080/"
        },
        "id": "1r7yNVbiVYvs",
        "outputId": "a4273dfb-dc03-469a-b9a5-7b4efdb3b134"
      },
      "execution_count": 5,
      "outputs": [
        {
          "output_type": "stream",
          "name": "stdout",
          "text": [
            "Mounted at /content/drive\n"
          ]
        }
      ]
    },
    {
      "cell_type": "code",
      "execution_count": 6,
      "metadata": {
        "id": "Y5hNsSttcZGJ"
      },
      "outputs": [],
      "source": [
        "#Set path to the training and validation data\n",
        "\n",
        "path_train = \"/content/drive/MyDrive/mnist_neural_network/mnist_train.csv\"\n",
        "path_test = \"/content/drive/MyDrive/mnist_neural_network/mnist_test.csv\"\n",
        "\n",
        "train = pd.read_csv(path_train)\n",
        "test = pd.read_csv(path_test)"
      ]
    },
    {
      "cell_type": "code",
      "source": [
        "device = torch.device('cuda') if torch.cuda.is_available() else torch.device('cpu')"
      ],
      "metadata": {
        "id": "SFCZvQqFhRXt"
      },
      "execution_count": null,
      "outputs": []
    },
    {
      "cell_type": "code",
      "source": [
        "#shorten the dataset\n",
        "train = train.iloc[:30001]\n",
        "test = test.iloc[3001]"
      ],
      "metadata": {
        "id": "2IGx4cXxvsGD"
      },
      "execution_count": null,
      "outputs": []
    },
    {
      "cell_type": "code",
      "source": [
        "train = torch.from_numpy(train.values).float().to(device)\n",
        "test = torch.from_numpy(test.values).float().to(device)"
      ],
      "metadata": {
        "id": "mKAhJrDswAXM"
      },
      "execution_count": null,
      "outputs": []
    }
  ]
}